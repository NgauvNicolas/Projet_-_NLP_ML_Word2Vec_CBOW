{
 "cells": [
  {
   "cell_type": "markdown",
   "id": "b6eed90c-6c75-4d4d-8e9c-d26ef97f517f",
   "metadata": {},
   "source": [
    "# Word2Vec : Creating Word Embeddings with Pytorch"
   ]
  },
  {
   "cell_type": "markdown",
   "id": "6cf0eeec-d3ec-4c2c-897c-0bbdf3066151",
   "metadata": {},
   "source": [
    "References : \n",
    "* https://towardsdatascience.com/understanding-feature-engineering-part-4-deep-learning-methods-for-text-data-96c44370bbfa\n",
    "* https://www.coursera.org/learn/probabilistic-models-in-nlp/home/week/4"
   ]
  },
  {
   "cell_type": "markdown",
   "id": "7ac9c73c-640c-4a62-aa30-24405d784556",
   "metadata": {},
   "source": [
    "## Why do we need word embeddings ?\n",
    "\n",
    "When doing NLP, we are generally interested in being able to transform sentences or words into numeric representations, to then feed them to our algorithms and perform predictions.  Some simple methods of doing so include using term frequencies or n-grams among other things (counting the number of times a word appears in positive tweets vs. negative tweets for example)...  While these simple approaches can work quite well in some cases, sentences are essentially represented as \"Bags of Words\", meaning a lot of information is lost : sentence structure, semantics, what the usual context for a word is.  The word *cat* for example may be frequently accompanied by *a* or *the* to its left since it's a noun.  \n",
    "\n",
    "So how can we find more expressive numeric representations ?  This question motivated NLP researchers to create more sophisticated word representations, known as *word embeddings*.  These are *dense* vectors (vs. *sparse* vectors : vectors with high dimensionality where most of the values are 0s) and are now fundamental to any machine learning algorithm in NLP."
   ]
  },
  {
   "cell_type": "markdown",
   "id": "f85fd423-1218-42b6-9045-f83f4c064fff",
   "metadata": {
    "tags": []
   },
   "source": [
    "## What principle do these word embeddings rely on ?\n",
    "\n",
    "Creating word embeddings relies on the idea that \"You shall know a word by the company it keeps\" (Firth, 1957). In [distributional semantics](https://en.wikipedia.org/wiki/Distributional_semantics#Distributional_Hypothesis), the distributional hypothesis tells us that words which occur and are used in the same context are semantically similar to one another.  The word vectors (embeddings) created take into account this contextual information, and ideally, the resulting vectors for words that have *similar contexts* end up in the same area of the vector space :\n",
    "\n",
    "<img src='vector_space_example.jpg'/>"
   ]
  },
  {
   "cell_type": "markdown",
   "id": "9c82bb15-1ff2-42d1-8f68-fed1e9386c41",
   "metadata": {},
   "source": [
    "## The Word2Vec Model\n",
    "\n",
    "This model was created by Google in 2013 and is a predictive deep learning based model :  given neighboring words, the neural network has to *predict* the word to be found at the center (this is only one of the possible architectures).\n",
    "\n",
    "\n",
    "Essentially, this model can leverage raw text (meaning no manual annotations needed), create a vocabulary of possible words and generate dense word embeddings for each word. We can even specify the size of the word embedding vectors, which makes the dimensionality of the vectors much lower than the high-dimensional sparse vectors built using traditional Bag of Words models.\n",
    "\n",
    "The model architecture we will be looking at is called the **Continuous Bag of Words Model**."
   ]
  },
  {
   "cell_type": "markdown",
   "id": "ff704030-bc14-4be7-b0a6-c793005c3d11",
   "metadata": {},
   "source": [
    "## The Continuous Bag of Words Model (CBOW) "
   ]
  },
  {
   "cell_type": "markdown",
   "id": "89ba3bf7-15d1-4113-809f-f24416957de4",
   "metadata": {},
   "source": [
    "To create word embeddings, you need a corpus and a learning algorithm, a simple neural net in this case.  The embeddings are a set of vectors that will be extracted from the neural net once it is trained, and are actually a *by-product* of the following task : the main objective of the CBOW model is to predict a missing word based on its surrounding words.  The intuition is that updating the values in the vectors (that we will be extracting) based on this task yields vectors that capture distributional semantics, ie. how these words are used in language, and make good word embedings.\n",
    "\n",
    "<div style='text-align:center;'><img src='Embedding_method.png'/></div>"
   ]
  },
  {
   "cell_type": "markdown",
   "id": "73f7205a-3ac5-4ad7-84e3-b170b02ff3c8",
   "metadata": {},
   "source": [
    "The CBOW model architecture tries to predict the current target word (the center word) based on context words (the surrounding words). Let's take a simple example :\n",
    "> **“the quick brown fox jumps over the lazy dog”**.\n",
    "\n",
    "The sentence will be transformed into a series of examples for the model to train on : each example will consist of a (context_window, target_word) tuple.  Considering a context window of size $C=2$ (2 words to the left, 2 to the right, so 4 total) we would obtain :\n",
    "> Ex. 1 : (*[the, quick, fox, jumps]*, brown)  \n",
    "> Ex. 2 : (*[quick, brown, jumps, over]*, fox)  \n",
    "> Etc ...\n",
    "\n",
    "The neural net's task will be to predict the target word based on the context window words."
   ]
  },
  {
   "cell_type": "markdown",
   "id": "0e16ca46-8d17-4917-93f9-756699d07969",
   "metadata": {},
   "source": [
    "This means we can model this problem as a classification task such that we take in the context words as our input (X) and try to predict the target word (Y) out of all the possible words in the vocabulary.  This is essentialy a *multiclass* classification task (only 1 of the possible classes is correct), where a class is equivalent to a word in the vocabulary.  Here is an overview of the process : \n",
    "\n",
    "<div style='text-align:center;'><img src=\"CBOW_overview.png\"/></div>"
   ]
  },
  {
   "cell_type": "markdown",
   "id": "0a4f57ea-a2eb-43f4-9f29-badef4ade538",
   "metadata": {},
   "source": [
    "## Implementing the CBOW model\n",
    "\n",
    "Using text from Shakespeare's plays, you will implement the CBOW model from scratch, using pytorch to simplify the creation of the network architecture and training loop. The implementation will be divided into 4 parts: \n",
    "* **Building the corpus Vocab**\n",
    "* **Create the (context_window, target_word) examples**\n",
    "* **Build the neural network architecture**\n",
    "* **Train the model**\n",
    "* **Visualize the word embeddings**"
   ]
  },
  {
   "cell_type": "markdown",
   "id": "83df0d1b-a1ca-482a-a951-af8197f26b2d",
   "metadata": {},
   "source": [
    "### 1. Building the corpus Vocab"
   ]
  },
  {
   "cell_type": "markdown",
   "id": "b507afe8-8d4b-40f1-becb-81ee06da5c3c",
   "metadata": {},
   "source": [
    "In the next cell, the text has been loaded and split into tokens for you :"
   ]
  },
  {
   "cell_type": "code",
   "execution_count": 48,
   "id": "1b1b1cf6-51a2-446f-8b4e-5a62954a8984",
   "metadata": {},
   "outputs": [
    {
     "name": "stderr",
     "output_type": "stream",
     "text": [
      "[nltk_data] Downloading package punkt to /home/ngauv-\n",
      "[nltk_data]     nicolas/nltk_data...\n",
      "[nltk_data]   Package punkt is already up-to-date!\n"
     ]
    },
    {
     "name": "stdout",
     "output_type": "stream",
     "text": [
      "Number of tokens: 111688 \n",
      " First 15 tokens :  ['this', 'is', 'the', 'etext', 'file', 'presented', 'by', 'project', 'gutenberg', '.', 'and', 'is', 'presented', 'in', 'cooperation']\n"
     ]
    }
   ],
   "source": [
    "import nltk\n",
    "nltk.download('punkt')\n",
    "from nltk.tokenize import word_tokenize\n",
    "import re  \n",
    "\n",
    "\n",
    "\n",
    "# dataset link :https://ocw.mit.edu/ans7870/6/6.006/s08/lecturenotes/files/t8.shakespeare.txt \n",
    "# you can clean some the the metatext if you wish\n",
    "with open('shakespeare_small.txt') as f:\n",
    "    text = f.read()   \n",
    "text = re.sub(r'[,!?;-]', '.',text)                                 #  Punktuations are replaced by .\n",
    "text = nltk.word_tokenize(text)                                     #  Tokenize string to words\n",
    "text = [ ch.lower() for ch in text if ch.isalpha() or ch == '.']    #  Lower case and drop non-alphabetical tokens\n",
    "print(\"Number of tokens:\", len(text), '\\n First 15 tokens : ', text[:15])  #  print data sample"
   ]
  },
  {
   "cell_type": "markdown",
   "id": "1c33b36f-b63a-4127-9a07-b86284a80491",
   "metadata": {},
   "source": [
    "Next you must :\n",
    "* Get the vocabulary and vocabulary size (the set() function can be useful...)\n",
    "* Create 2 dictionaries :\n",
    "    * word2idx => keys are words in vocab, values are a unique number you must attribute to each word\n",
    "    * idx2word => keys are a unique number, values are the corresponding word  \n",
    "    These dictionaries will allow you to map words in the vocab to unique numbers.  This is necessary as you will be feeding these numbers to the model, not the words directly.\n",
    "* Create the (context, target) example pairs and store them in a list called data."
   ]
  },
  {
   "cell_type": "code",
   "execution_count": 49,
   "id": "7fd682c6-2b2c-4f8f-b951-3a7639fe3616",
   "metadata": {},
   "outputs": [
    {
     "name": "stdout",
     "output_type": "stream",
     "text": [
      "Vocab size = 7859 (should be equal to 7860)\n"
     ]
    }
   ],
   "source": [
    "# get the vocab and vocab length \n",
    "vocab = set()\n",
    "for word in text:\n",
    "    vocab.add(word)\n",
    "\n",
    "vocab_size = len(vocab)\n",
    "\n",
    "# sort the vocab alphabetically so everyone has the same indexes in the next cells (this is not strictly necessary)\n",
    "vocab = sorted(vocab)\n",
    "\n",
    "print(f\"Vocab size = {vocab_size} (should be equal to 7860)\") # for small version"
   ]
  },
  {
   "cell_type": "code",
   "execution_count": 50,
   "id": "ae6492e7-adcc-453c-a05f-6cb59688c154",
   "metadata": {},
   "outputs": [
    {
     "name": "stdout",
     "output_type": "stream",
     "text": [
      "Index of the word 'king' :   3763\n",
      "Word which has index 3764:   kingdom\n"
     ]
    }
   ],
   "source": [
    "# create the word2idx and idx2word dictionaries:\n",
    "word2idx = {}\n",
    "idx2word = {}\n",
    "for idx, word in enumerate(vocab):\n",
    "    word2idx[word] = idx\n",
    "    idx2word[idx] = word\n",
    "    \n",
    "# example of word to index mapping\n",
    "print(\"Index of the word 'king' :  \",word2idx['king'] )\n",
    "print(\"Word which has index 3764:  \",idx2word[3764] )"
   ]
  },
  {
   "cell_type": "code",
   "execution_count": 51,
   "id": "b1eaacbd-ba33-409f-8db7-f751e8540e81",
   "metadata": {
    "tags": []
   },
   "outputs": [
    {
     "name": "stdout",
     "output_type": "stream",
     "text": [
      "first 5 words : ['this', 'is', 'the', 'etext', 'file']\n",
      "example n°1 = (['this', 'is', 'etext', 'file'], 'the')\n",
      "context = ['this', 'is', 'etext', 'file']\n",
      "target = the\n",
      "Number of examples : 111684\n"
     ]
    }
   ],
   "source": [
    "# Going through the text, create a list of data examples, where each example consists of a (context, target) tuple.\n",
    "# The context can be represented as a list of the context words (2 before and 2 after)\n",
    "# You may start at word idx number 2 and end on the second to last word.\n",
    "\n",
    "data = []\n",
    "\n",
    "# loop to make training examples\n",
    "for n in range(2, len(text) - 2):\n",
    "    context = [text[n - 2], text[n - 1], text[n + 1], text[n + 2]]\n",
    "    target = text[n]\n",
    "    data.append((context, target))\n",
    "\n",
    "\n",
    "# check if it works for the first example   \n",
    "print(f'first 5 words : {text[:5]}')\n",
    "print(f'example n°1 = {data[0]}')\n",
    "print(f'context = {data[0][0]}')\n",
    "print(f'target = {data[0][1]}')\n",
    "\n",
    "print(f'Number of examples : {len(data)}')\n",
    "# if this is too much data and training is too long on your computer, you can reduce the data size, removing some of the plays."
   ]
  },
  {
   "cell_type": "markdown",
   "id": "5212cb5a",
   "metadata": {},
   "source": [
    "Expected output is :\n",
    "first 5 words : ['this', 'is', 'the', 'etext', 'file']  \n",
    "example n°1 = (['this', 'is', 'etext', 'file'], 'the')   \n",
    "context = ['this', 'is', 'etext', 'file']  \n",
    "target = the  \n",
    "Number of examples : 111692"
   ]
  },
  {
   "cell_type": "markdown",
   "id": "2ec393b3-ece5-4da9-8cc5-b0441d607c19",
   "metadata": {},
   "source": [
    "### 2. Building the neural net architecture with pytorch"
   ]
  },
  {
   "cell_type": "code",
   "execution_count": 52,
   "id": "ac619996-e928-4a40-8d84-2978df3ca21f",
   "metadata": {},
   "outputs": [],
   "source": [
    "# https://pytorch.org/get-started/locally/ to see how to install pytorch if you\n",
    "# are working on your own computer\n",
    "# googlecolab is always an option\n",
    "import torch\n",
    "import torch.nn as nn\n",
    "import torch.nn.functional as F\n",
    "import torch.optim as optim"
   ]
  },
  {
   "cell_type": "markdown",
   "id": "791fadcc-bc27-4bce-af1e-2c3e3d85a591",
   "metadata": {},
   "source": [
    "#### 2.1 Batching the data examples"
   ]
  },
  {
   "cell_type": "markdown",
   "id": "4ee541dd",
   "metadata": {},
   "source": [
    "In order to accelerate the training process, we can **batch** training examples together.  This means that instead of feeding the model 1 example at a time, we feed it 16 or 32 or 64 examples in one go. The batchsize is up to you and is generally a power of 2.  Pytorch's `Dataloader`class takes care of this for you.  It takes as arguments a pytorch `Dataset`(`TensorDataset` in this case) and a `batch_size`.  \n",
    "\n",
    "To be istantiated, the `TensorDataset` class here will take 2 arguments:\n",
    "* a pytorch tensor of inputs \n",
    "* a pytorch tensor of targets.  \n",
    "\n",
    "The inputs will be the contexts in the data list created above, except the tokens will have to be transformed into indexes (ie. integer values) for our neural net.  The targets will have to undergo the same treatment. Use the word2idx dictionary you created previously to get the corresponding indexes for each token.  Finally transform these lists into torch tensors by using `torch.tensor(list)` so they can be fed as arguments to the TorchDataset class."
   ]
  },
  {
   "cell_type": "code",
   "execution_count": 153,
   "id": "40663d34-8ccd-47df-996f-a77341c3c1d0",
   "metadata": {},
   "outputs": [],
   "source": [
    "batch_size = 128\n",
    "#batch_size = 256\n",
    "embedding_dim = 50\n",
    "#embedding_dim = 200\n",
    "lr = 0.1\n",
    "#lr = 0.05\n",
    "#epochs = 150\n",
    "epochs = 200"
   ]
  },
  {
   "cell_type": "code",
   "execution_count": 154,
   "id": "4abdda10-e13b-43c6-9dab-76eef3cd62cb",
   "metadata": {},
   "outputs": [],
   "source": [
    "from torch.utils.data import TensorDataset, DataLoader\n",
    "\n",
    "# Initialize lists for contexts and targets\n",
    "\n",
    "context_list = []\n",
    "target_list = []\n",
    "\n",
    "for n in range(len(data)):\n",
    "    # Create context for each element\n",
    "    context = []\n",
    "    for i in range(4):\n",
    "        context.append(word2idx[data[n][0][i]])\n",
    "    context_list.append(context)\n",
    "    \n",
    "    # Create target for each element\n",
    "    target = word2idx[data[n][1]]\n",
    "    target_list.append(target)\n",
    "\n",
    "\n",
    "# Convert lists into tensors\n",
    "contexts = torch.tensor(context_list)\n",
    "targets = torch.tensor(target_list)\n",
    "\n",
    "\n",
    "assert len(contexts) == len(targets)\n",
    "\n",
    "dataset = TensorDataset(contexts, targets)\n",
    "dataloader = DataLoader(dataset, batch_size)"
   ]
  },
  {
   "cell_type": "code",
   "execution_count": 155,
   "id": "7aa3aae6-2d8b-4c50-8826-fa2d69f3a755",
   "metadata": {},
   "outputs": [
    {
     "name": "stdout",
     "output_type": "stream",
     "text": [
      "torch.Size([111684, 4])\n",
      "tensor([[6914, 3667, 2385, 2648],\n",
      "        [3667, 6872, 2648, 5200]])\n",
      "tensor([6872, 2385])\n"
     ]
    }
   ],
   "source": [
    "print(contexts.shape)\n",
    "print(contexts[:2])\n",
    "print(targets[:2])"
   ]
  },
  {
   "cell_type": "markdown",
   "id": "a1271674-999e-4b20-a028-b336c336769a",
   "metadata": {},
   "source": [
    "Expected output:  \n",
    "\n",
    "torch.Size([111692, 4])  \n",
    "\n",
    "tensor([[6915, 3668, 2386, 2649],\n",
    "        [3668, 6873, 2649, 5201]])  \n",
    "        \n",
    "tensor([6873, 2386])"
   ]
  },
  {
   "cell_type": "markdown",
   "id": "bceefc1f-fd2f-45b0-813a-ae93d8f33ff1",
   "metadata": {},
   "source": [
    "#### 2.2 The Model architecture"
   ]
  },
  {
   "cell_type": "markdown",
   "id": "97f70a4d-8799-465c-8922-5698630f3995",
   "metadata": {},
   "source": [
    "Here is an overview of the model's architecture and how a single example flows through the layers :  "
   ]
  },
  {
   "cell_type": "markdown",
   "id": "155fef6b-8fe4-4466-a7c6-5fbb1b2e7e18",
   "metadata": {},
   "source": [
    "<div style='text-align:center;'/><img src='Diapositive1.png'>"
   ]
  },
  {
   "cell_type": "markdown",
   "id": "b66c5284-faed-47df-8d0a-7ef60c98a389",
   "metadata": {},
   "source": [
    "Take a look at the XOR notebook to see how a model class is created in pytorch (the init function and the forward function are the main components).\n",
    "\n",
    "You may add the `vocab_size` and number of embedding dimensions (`embedding_dim`) you want your embeddings to have (50 is a good choice) to the init parameters, so as to pass them in when you instantiate the model. \n",
    "\n",
    "Pytorch allows you to implement a special layer, called an embedding layer (`nn.Embedding`).  This special layer serves as a look-up table, mapping token indexes to vectors (**Embeddings**).  By default, the values in these vectors will be updated by the model with respect to our goal, which is to predict a token given the tokens surrouding it.  These 'trained' embeddings should therefore contain *distributional semantic* information that can be extracted from words appearing in the same context, which is what we're after.  Look at the the documentation to see what this layer takes as inputs : https://pytorch.org/docs/stable/generated/torch.nn.Embedding.html\n",
    "\n",
    "Then, add an output layer.  Be aware of the input and output sizes of the layer.  Take a look at the notebook on the XOR problem to see how to create a linear layer in pytorch.\n",
    "\n",
    "The `forward` function deals with the flow of data through the model.  In this case, it takes as input a *batch* of context vectors.\n",
    "This batch must first go through the embedding layer which returns 4 vectors (1 for each word) of equal dimension for each example in the batch.  With a batch size of 128 and an embedding dimension of 50, the shape of the output of the `nn.Embedding` layer will be:  (128, 4, 50):  128 matrices (one per example in the batch) of 4 by 50 (one 50 dimensional vector per context word).\n",
    "\n",
    "\n",
    "For each example in the batch, you will compute the average these 4 vectors to obtain a single vector.  This means you must specify that the mean calculated has to be along dimension 1 (the one equal to 4).  This is why the model is called Continuous Bag of Words: we don’t consider the order of the context words when averaging their embeddings in this way; that information is lost.\n",
    "\n",
    "Finally, all that is left is to pass the batch of averaged vectors to the output layer !\n",
    "\n",
    "No need to use the softmax function as a final activation function here, this will be done automatically by the loss function in the training loop (cf. next section)."
   ]
  },
  {
   "cell_type": "code",
   "execution_count": 156,
   "id": "fe1dfcc6-3695-442f-921f-fc8dcbef10f3",
   "metadata": {
    "tags": []
   },
   "outputs": [],
   "source": [
    "# Create the Neural Net \n",
    "\n",
    "class CBOW(nn.Module):\n",
    "    def __init__(self, vocab_size, embedding_dim):\n",
    "        \n",
    "        super().__init__()\n",
    "        # embedding layer\n",
    "        self.embeddings = nn.Embedding(vocab_size, embedding_dim)\n",
    "        # output layer\n",
    "        self.output = nn.Linear(embedding_dim, vocab_size)\n",
    "\n",
    "    def forward(self, batch):\n",
    "\n",
    "        # get the embeddings from the Embedding layer and average them along dim=1.\n",
    "        # use .shape to see what shape the batch has before and after going through \n",
    "        # each layer if you need to\n",
    "        \n",
    "        embedded = self.embeddings(batch)\n",
    "        average = torch.mean(embedded , dim=1)\n",
    "        \n",
    "        # embeds=(128, 4, 50)\n",
    "        # avg=torch.mean(embeds, dim=1 : (128, 50)\n",
    "        # output=self.output(avg)\n",
    "                       \n",
    "        # pass the batch through the output layer to get the logits and return the final output.\n",
    "        # the output should be a matrix with dimensions batch_size x vocab_size\n",
    "        \n",
    "        logits = self.output(average)\n",
    "        \n",
    "        return logits"
   ]
  },
  {
   "cell_type": "code",
   "execution_count": 157,
   "id": "4b56d320-7eba-4130-af1e-6224784cc9d1",
   "metadata": {
    "tags": []
   },
   "outputs": [
    {
     "name": "stdout",
     "output_type": "stream",
     "text": [
      "CBOW(\n",
      "  (embeddings): Embedding(7859, 50)\n",
      "  (output): Linear(in_features=50, out_features=7859, bias=True)\n",
      ")\n"
     ]
    }
   ],
   "source": [
    "# set random seed to instantiate the model weights at random in a *reproducible* fashion\n",
    "# this means running this cell will reinitialize the embeddings to the same random initial values when you\n",
    "# try different hyperparameters\n",
    "torch.manual_seed(42)\n",
    "\n",
    "#instantiate the model\n",
    "model = CBOW(vocab_size, \n",
    "             embedding_dim)\n",
    "print(model)"
   ]
  },
  {
   "cell_type": "markdown",
   "id": "3e37598e-f290-4b7c-b884-3b83cb2f4321",
   "metadata": {},
   "source": [
    "Your model should look something like this :\n",
    "\n",
    "CBOW(  \n",
    "  (embeddings): Embedding(7860, 50)  \n",
    "  (output): Linear(in_features=50, out_features=7860, bias=True)  \n",
    ")"
   ]
  },
  {
   "cell_type": "markdown",
   "id": "6fff8ba7-4287-4ef9-83c3-0d5d078fa26b",
   "metadata": {},
   "source": [
    "#### 2.3 Visualizing word vectors and similarities before training"
   ]
  },
  {
   "cell_type": "markdown",
   "id": "50af9d26-23af-47e7-9879-92c2a9a1816c",
   "metadata": {},
   "source": [
    "To see if training the model on this task has had a desirable effect on the word vectors (which are randomly initialized when you instantiate the model), it can be useful to compare the vectors for certain words before vs. after training.  The code in the next 2 cells shows similarity measures between vectors and plots vectors in space after reducing their dimensionality to 2.\n",
    "\n",
    "The list of words used can be changed as you wish.  "
   ]
  },
  {
   "cell_type": "code",
   "execution_count": 158,
   "id": "ab062724-8b94-4c99-95e9-7c8da632da5c",
   "metadata": {},
   "outputs": [],
   "source": [
    "import numpy as np\n",
    "import seaborn as sns\n",
    "from sklearn.decomposition import PCA\n",
    "import matplotlib.pyplot as plt"
   ]
  },
  {
   "cell_type": "code",
   "execution_count": 159,
   "id": "2eda1fbc-f595-47e5-9f3d-b920cbac5adb",
   "metadata": {},
   "outputs": [],
   "source": [
    "# list of words to study\n",
    "words = ['man', 'king', 'lord', 'woman', 'queen', 'lady']"
   ]
  },
  {
   "cell_type": "code",
   "execution_count": 160,
   "id": "7a1dfab6-8029-4f33-84a4-af787df9ac5c",
   "metadata": {},
   "outputs": [],
   "source": [
    "# the embeddings for the words, randomly initialized by the model\n",
    "embeddings_bef = np.array([model.embeddings(torch.tensor(word2idx[word],dtype=torch.long)).detach().numpy() \n",
    "                       for word in words]).squeeze()"
   ]
  },
  {
   "cell_type": "code",
   "execution_count": 161,
   "id": "d1120dd2-0adc-497a-842f-24dbdbe1ecad",
   "metadata": {
    "tags": []
   },
   "outputs": [
    {
     "data": {
      "image/png": "[encoded data removed]",
      "text/plain": [
       "<Figure size 640x480 with 1 Axes>"
      ]
     },
     "metadata": {},
     "output_type": "display_data"
    },
    {
     "data": {
      "text/plain": [
       "<Figure size 640x480 with 0 Axes>"
      ]
     },
     "metadata": {},
     "output_type": "display_data"
    }
   ],
   "source": [
    "# Plotting the vectors\n",
    "# In order to plot and visualize the vectors in 2D, we can use an algorithm called *Principal Component Analysis (PCA)* \n",
    "# to reduce the vectors' dimensions from 50 (or whichever dimension you chose) down to 2.  This can be easily done using `sklearn`.  \n",
    "\n",
    "\n",
    "# perform PCA (reduce to 2 dimensions)\n",
    "pca = PCA(n_components=2)\n",
    "reduced = pca.fit_transform(embeddings_bef)\n",
    "\n",
    "# plotting the 2D vectors\n",
    "plt.scatter(reduced[:,1], reduced[:, 0])\n",
    "for i, word in enumerate(words):\n",
    "    plt.annotate(word, xy=(reduced[i, 1], reduced[i, 0]))\n",
    "plt.show()\n",
    "#plt.savefig(\"plot.pdf\") # save fig to pdf\n",
    "plt.savefig(f\"plot_notraining_{batch_size}_{embedding_dim}.pdf\") # save fig to pdf"
   ]
  },
  {
   "cell_type": "code",
   "execution_count": 162,
   "id": "44074d49-d540-4b0d-9a20-51e80c1189e1",
   "metadata": {
    "tags": []
   },
   "outputs": [
    {
     "data": {
      "image/png": "[encoded data removed]",
      "text/plain": [
       "<Figure size 640x480 with 2 Axes>"
      ]
     },
     "metadata": {},
     "output_type": "display_data"
    }
   ],
   "source": [
    "# This code creates a heatmap showing the cosine similarity between each of the words in the list\n",
    "\n",
    "# compute cosine simil between words\n",
    "dot_similarity = np.dot(embeddings_bef, embeddings_bef.T)\n",
    "norms = np.linalg.norm(embeddings_bef, axis=1)\n",
    "dot_similarity /= np.outer(norms, norms)\n",
    "\n",
    "# create heatmap (top half has been masked for more clarity, since it shows the same scores as the bottom half)\n",
    "mask = np.zeros_like(dot_similarity)\n",
    "mask[np.triu_indices_from(mask)] = True\n",
    "sns.heatmap(dot_similarity,\n",
    "            xticklabels=words,\n",
    "            yticklabels=words,\n",
    "            annot=True,\n",
    "            mask=mask,\n",
    "            cmap='viridis')\n",
    "#plt.savefig(\"heatmap.pdf\") # save fig to pdf\n",
    "plt.savefig(f\"heatmap_no_training_{batch_size}_{embedding_dim}.pdf\") # save fig to pdf"
   ]
  },
  {
   "cell_type": "markdown",
   "id": "bf2e7021-d626-4120-b783-34763c8c082f",
   "metadata": {},
   "source": [
    "#### **Question** : \n",
    "\n",
    "How do you think the cosine similarity scores will/should change after training ?  In the plot, how would you expect the vectors to move ?  Which word vectors should end up closer/farther ?"
   ]
  },
  {
   "cell_type": "markdown",
   "id": "f759c59f-e064-4d7d-8da0-1ffa743e1c4b",
   "metadata": {},
   "source": [
    "#### 2.4 Training Loop"
   ]
  },
  {
   "cell_type": "markdown",
   "id": "1449c12b-df5c-484e-8596-c75d2df88b91",
   "metadata": {},
   "source": [
    "Start by selecting the appropriate loss function and optimizer.  You may use `nn.CrossEntropyLoss()` as a loss function and `torch.optim.SGD`for the optimizer.  This optimizer is an implementation of the Gradient Descent algorithm and takes as arguments `model.parameters()`, the model's parameters, and `lr` the learning rate, which can be set to 0.1 when using batches of 128 (experiment with different values here).  \n",
    "\n",
    "Next you can run the model for 150-200 epochs or until you find little to no change between current_loss and prev_loss.  This should be able to run on your computer, but if not just copy import the notebook into colab.  The fact that we divided the training data into batches means each epoch should take a few secs instead of several minutes.  (Batching is usually used in conjunction with a GPU but can speed things up even on a CPU, which is what we are using here.)\n",
    "\n",
    "*NOTE: until you reset the parameters by re-instantiating the model, the training loop will continue from where it left off. If you stop and then retstart the cell below, you will continue training the parameters from the last epoch.*"
   ]
  },
  {
   "cell_type": "code",
   "execution_count": 163,
   "id": "06a08957-edaf-4501-a939-5254f62ee363",
   "metadata": {
    "tags": []
   },
   "outputs": [
    {
     "name": "stdout",
     "output_type": "stream",
     "text": [
      "5.085381746292114\n",
      "4.906998634338379\n",
      "4.9472410678863525\n",
      "4.931202173233032\n",
      "4.937084197998047\n",
      "5.3217175006866455\n",
      "5.663842439651489\n",
      "5.5996129512786865\n",
      "5.671518325805664\n",
      "Epoch 10 : 5116.781984806061\n",
      "5.602336406707764\n",
      "5.572018146514893\n",
      "5.583546876907349\n",
      "5.568520545959473\n",
      "5.618917226791382\n",
      "5.668270111083984\n",
      "5.642278671264648\n",
      "5.590719699859619\n",
      "5.553761959075928\n",
      "5.577131032943726\n",
      "Epoch 20 : 4900.753968238831\n",
      "5.5549845695495605\n",
      "5.636535882949829\n",
      "5.570274353027344\n",
      "5.568678855895996\n",
      "5.572116374969482\n",
      "5.59389591217041\n",
      "5.571497201919556\n",
      "5.575697183609009\n",
      "5.688376426696777\n",
      "5.60588002204895\n",
      "Epoch 30 : 4780.455185651779\n",
      "5.57587742805481\n",
      "5.57137131690979\n",
      "5.583627462387085\n",
      "5.5714192390441895\n",
      "5.5861475467681885\n",
      "5.558253765106201\n",
      "5.60213828086853\n",
      "5.589449167251587\n",
      "5.5751283168792725\n",
      "5.755138874053955\n",
      "Epoch 40 : 4693.467865228653\n",
      "5.547719717025757\n",
      "5.580873012542725\n",
      "5.734161853790283\n",
      "6.074629306793213\n",
      "5.662801504135132\n",
      "5.559423923492432\n",
      "5.532580375671387\n",
      "6.612508058547974\n",
      "6.373073101043701\n",
      "6.458819627761841\n",
      "Epoch 50 : 4624.311652898788\n",
      "6.44489860534668\n",
      "6.416442632675171\n",
      "6.415734767913818\n",
      "6.363763332366943\n",
      "6.481461763381958\n",
      "6.477294683456421\n",
      "6.431031227111816\n",
      "6.482009172439575\n",
      "6.455300331115723\n",
      "6.452041864395142\n",
      "Epoch 60 : 4566.050969362259\n",
      "6.361593723297119\n",
      "6.293442726135254\n",
      "6.4686009883880615\n",
      "6.564830303192139\n",
      "6.432332277297974\n",
      "6.4679646492004395\n",
      "6.467712163925171\n",
      "6.39966607093811\n",
      "6.347201585769653\n",
      "6.449765205383301\n",
      "Epoch 70 : 4515.025827884674\n",
      "6.463757038116455\n",
      "6.448061466217041\n",
      "6.505286455154419\n",
      "6.449952602386475\n",
      "6.320735454559326\n",
      "6.3747642040252686\n",
      "6.451468467712402\n",
      "6.4667699337005615\n",
      "6.472805023193359\n",
      "6.445341348648071\n",
      "Epoch 80 : 4469.152174472809\n",
      "6.4154298305511475\n",
      "6.334568977355957\n",
      "6.489040374755859\n",
      "6.467682123184204\n",
      "6.448955774307251\n",
      "7.011326789855957\n",
      "6.830844402313232\n",
      "6.79399847984314\n",
      "6.4909985065460205\n",
      "6.488569736480713\n",
      "Epoch 90 : 4427.158418416977\n",
      "6.459446430206299\n",
      "6.5752129554748535\n",
      "6.437535524368286\n",
      "6.518439531326294\n",
      "6.507046699523926\n",
      "6.528591871261597\n",
      "6.4406750202178955\n",
      "6.502460718154907\n",
      "6.491067171096802\n",
      "6.588972568511963\n",
      "Epoch 100 : 4388.198929548264\n",
      "6.581872463226318\n",
      "6.420989274978638\n",
      "6.411611557006836\n",
      "6.485702991485596\n",
      "6.469731330871582\n",
      "6.468592882156372\n",
      "6.397904396057129\n",
      "6.381340980529785\n",
      "6.70982027053833\n",
      "6.6809728145599365\n",
      "Epoch 110 : 4351.681605100632\n",
      "6.6630284786224365\n",
      "6.455648183822632\n",
      "6.405604124069214\n",
      "6.466421604156494\n",
      "6.398738384246826\n",
      "6.330667495727539\n",
      "6.39527153968811\n",
      "6.506950378417969\n",
      "6.4599974155426025\n",
      "6.439102411270142\n",
      "Epoch 120 : 4317.1815547943115\n",
      "6.385119438171387\n",
      "6.325571298599243\n",
      "6.372767448425293\n",
      "6.425564527511597\n",
      "6.450021743774414\n",
      "6.288148641586304\n",
      "6.40656304359436\n",
      "6.414891004562378\n",
      "6.407342910766602\n",
      "6.4189910888671875\n",
      "Epoch 130 : 4284.385943412781\n",
      "6.250864744186401\n",
      "6.425748348236084\n",
      "6.396768569946289\n",
      "6.2698445320129395\n",
      "6.399702072143555\n",
      "6.4059083461761475\n",
      "6.354331731796265\n",
      "6.335570335388184\n",
      "6.491986036300659\n",
      "6.426898956298828\n",
      "Epoch 140 : 4253.059854745865\n",
      "6.391170978546143\n",
      "6.2747802734375\n",
      "6.423559665679932\n",
      "6.426382780075073\n",
      "6.372704029083252\n",
      "6.3160388469696045\n",
      "6.410307168960571\n",
      "6.466756582260132\n",
      "6.514473915100098\n",
      "6.392961502075195\n",
      "Epoch 150 : 4223.0242557525635\n",
      "6.333623647689819\n",
      "6.390142440795898\n",
      "6.439885854721069\n",
      "6.439502000808716\n",
      "6.382205486297607\n",
      "6.36191725730896\n",
      "6.4224889278411865\n",
      "6.683871507644653\n",
      "6.345461368560791\n",
      "6.426151752471924\n",
      "Epoch 160 : 4194.140423297882\n",
      "6.459024429321289\n",
      "6.4289023876190186\n",
      "6.295672655105591\n",
      "6.433459997177124\n",
      "6.447515249252319\n",
      "6.433440685272217\n",
      "6.50715184211731\n",
      "6.541252136230469\n",
      "6.403363466262817\n",
      "6.363484859466553\n",
      "Epoch 170 : 4166.298695325851\n",
      "6.316347360610962\n",
      "6.443062782287598\n",
      "6.440834045410156\n",
      "6.46142053604126\n",
      "6.355626344680786\n",
      "6.301776647567749\n",
      "6.502007961273193\n",
      "6.457607746124268\n",
      "6.4263856410980225\n",
      "6.333733320236206\n",
      "Epoch 180 : 4139.410790681839\n",
      "6.28373646736145\n",
      "6.413683652877808\n",
      "6.394484281539917\n",
      "6.30857515335083\n",
      "6.414261102676392\n",
      "6.418051719665527\n",
      "6.4221813678741455\n",
      "6.331980228424072\n",
      "6.416309833526611\n",
      "6.419567584991455\n",
      "Epoch 190 : 4113.40483212471\n",
      "6.381301641464233\n",
      "6.3156418800354\n",
      "6.509883403778076\n",
      "6.437453746795654\n",
      "6.420569181442261\n",
      "6.534480333328247\n",
      "6.405635595321655\n",
      "6.304990291595459\n",
      "6.360932111740112\n",
      "6.396103620529175\n",
      "Epoch 200 : 4088.221303343773\n",
      "6.409104824066162\n"
     ]
    }
   ],
   "source": [
    "import time\n",
    "loss_function = nn.CrossEntropyLoss()\n",
    "#lr = 0.05\n",
    "optimizer = torch.optim.SGD(model.parameters(), lr)\n",
    "#epochs = 150\n",
    "\n",
    "#TRAINING\n",
    "# around 4s per epoch on my machine (small version)\n",
    "\n",
    "# you can track the time passed per epoch by decommenting the time1 line and the print(time.time...) at the end.\n",
    "for epoch in range(epochs):\n",
    "    time1 = time.time()\n",
    "    \n",
    "    # initiliaze the total_loss for each epoch to 0\n",
    "    total_loss = 0\n",
    "\n",
    "    # the dataloader is a generator object, it produces a batch of contexts and targets when you iterate over it.\n",
    "    for context, target in dataloader:\n",
    "        \n",
    "        # get the logits\n",
    "        logits = model(context)\n",
    "        \n",
    "        # calculate the loss by passing the logits and targets to the loss_function\n",
    "        loss = loss_function(logits, target)\n",
    "        \n",
    "        # add the loss value to the total_loss (use loss.item() to get the value as a standard number vs a pytorch tensor)\n",
    "        total_loss += loss.item()\n",
    "\n",
    "        \n",
    "        # optimize the network weights using the three steps seen in the XOR notebook\n",
    "        # Call optimizer.zero_grad() to reset the gradients of model parameters. \n",
    "        # Gradients by default add up; to prevent double-counting, we explicitly zero them at each iteration.\n",
    "        optimizer.zero_grad()\n",
    "\n",
    "        # Backpropagate the prediction loss with a call to loss.backward(). \n",
    "        # PyTorch deposits the gradients of the loss w.r.t. each parameter.\n",
    "        loss.backward()\n",
    "\n",
    "\n",
    "        # Once we have our gradients, we call optimizer.step() to adjust the parameters by the gradients collected in the backward pass.\n",
    "        optimizer.step()\n",
    "    \n",
    "    # track the loss by printing it every 10 epochs (replace with 1 to see the time passed per epoch)\n",
    "    if (epoch+1) % 10 == 0:\n",
    "        print(f'Epoch {epoch+1} : {total_loss}')\n",
    "    \n",
    "    print(time.time()-time1)"
   ]
  },
  {
   "cell_type": "code",
   "execution_count": 164,
   "id": "f294ea31-27e7-4b61-9b1e-6b0e29215f24",
   "metadata": {},
   "outputs": [
    {
     "name": "stdout",
     "output_type": "stream",
     "text": [
      "128_50_200_1\n"
     ]
    },
    {
     "data": {
      "text/plain": [
       "<All keys matched successfully>"
      ]
     },
     "execution_count": 164,
     "metadata": {},
     "output_type": "execute_result"
    }
   ],
   "source": [
    "# save your trained model for easier experimentation\n",
    "parameters=f\"{batch_size}_{embedding_dim}_{epochs}_{str(lr).split('.')[-1]}\"\n",
    "print(parameters)\n",
    "torch.save(model.state_dict(), f'cbow_model_{parameters}.pth')\n",
    "\n",
    "# load your trained model whenever you want with\n",
    "model = CBOW(vocab_size, embedding_dim) # reset the model\n",
    "model.load_state_dict(torch.load(f'cbow_model_{parameters}.pth')) # load the saved weights"
   ]
  },
  {
   "cell_type": "markdown",
   "id": "5324aef8-3f6a-41fc-badd-9357670650c8",
   "metadata": {
    "tags": []
   },
   "source": [
    "#### 2.5 Visualizing word vectors and similarities after training\n",
    "\n",
    "Using the same list of words as before, the next cells show the new similarities and plot the new word vectors.  What has changed ? Do the results seem to verify your hypotheses ?  \n",
    "How do you think the results could be improved ?\n",
    "\n",
    "Try changing the hyperparameters to see if they have any impact.  These include :\n",
    "\n",
    "* number of embedding dimensions (ie. size of the embeddings)\n",
    "* learning rate\n",
    "* number of epochs\n",
    "* batch size (optionally)\n",
    "\n",
    "Training word vectors requires large amounts of text.  This project is a toy example, so do not be discouraged if differences are small... Try to still look for anything noteworthy.  How would you expect the vectors to move ? "
   ]
  },
  {
   "cell_type": "code",
   "execution_count": 165,
   "id": "3ecab8dd-320d-4e7c-9d70-cb87192bf4d8",
   "metadata": {},
   "outputs": [],
   "source": [
    "embeddings_aft = np.array([model.embeddings(torch.tensor(word2idx[word],dtype=torch.long)).detach().numpy() \n",
    "                       for word in words]).squeeze()"
   ]
  },
  {
   "cell_type": "code",
   "execution_count": 166,
   "id": "22e90dfa-1fdb-4d1d-9aae-e38b7258d5b0",
   "metadata": {
    "tags": []
   },
   "outputs": [
    {
     "name": "stdout",
     "output_type": "stream",
     "text": [
      "[-2.5128708  1.4474036]\n"
     ]
    },
    {
     "data": {
      "image/png": "[encoded data removed]",
      "text/plain": [
       "<Figure size 640x480 with 1 Axes>"
      ]
     },
     "metadata": {},
     "output_type": "display_data"
    },
    {
     "data": {
      "text/plain": [
       "<Figure size 640x480 with 0 Axes>"
      ]
     },
     "metadata": {},
     "output_type": "display_data"
    }
   ],
   "source": [
    "reduced = pca.fit_transform(embeddings_aft)\n",
    "print(reduced[0])\n",
    "\n",
    "plt.scatter(reduced[:,1], reduced[:, 0])\n",
    "for i, word in enumerate(words):\n",
    "    plt.annotate(word, xy=(reduced[i, 1], reduced[i, 0]))\n",
    "plt.show()\n",
    "# plt.savefig(\"plot.pdf\") # save fig to pdf\n",
    "plt.savefig(f\"plot_{parameters}.pdf\") # save fig to pdf"
   ]
  },
  {
   "cell_type": "code",
   "execution_count": 167,
   "id": "dd25c308-ebfa-4b2f-8d7b-eab54471afbe",
   "metadata": {},
   "outputs": [
    {
     "data": {
      "image/png": "[encoded data removed]",
      "text/plain": [
       "<Figure size 640x480 with 2 Axes>"
      ]
     },
     "metadata": {},
     "output_type": "display_data"
    }
   ],
   "source": [
    "dot_similarity = np.dot(embeddings_aft, embeddings_aft.T)\n",
    "norms = np.linalg.norm(embeddings_aft, axis=1)\n",
    "dot_similarity /= np.outer(norms, norms)\n",
    "\n",
    "mask = np.zeros_like(dot_similarity)\n",
    "mask[np.triu_indices_from(mask)] = True\n",
    "sns.heatmap(dot_similarity,\n",
    "            xticklabels=words,\n",
    "            yticklabels=words,\n",
    "            annot=True,\n",
    "            mask=mask,\n",
    "            cmap='viridis')\n",
    "# plt.savefig(\"heatmap.pdf\") # save fig to pdf\n",
    "plt.savefig(f\"heatmap_{parameters}.pdf\") # save fig to pdf"
   ]
  },
  {
   "cell_type": "code",
   "execution_count": null,
   "id": "134ea21e-0280-40ca-9354-e0c4ade11a24",
   "metadata": {},
   "outputs": [],
   "source": []
  },
  {
   "cell_type": "code",
   "execution_count": null,
   "id": "4ec4b270-e89b-47fc-8d28-49c2c4c54de6",
   "metadata": {},
   "outputs": [],
   "source": []
  },
  {
   "cell_type": "code",
   "execution_count": null,
   "id": "3745e448-8c49-461c-8a2d-a97d7072b2e0",
   "metadata": {},
   "outputs": [],
   "source": []
  },
  {
   "cell_type": "code",
   "execution_count": null,
   "id": "9357c508-1313-4784-b9a4-bb15ccde3909",
   "metadata": {},
   "outputs": [],
   "source": []
  }
 ],
 "metadata": {
  "kernelspec": {
   "display_name": "Python 3 (ipykernel)",
   "language": "python",
   "name": "python3"
  },
  "language_info": {
   "codemirror_mode": {
    "name": "ipython",
    "version": 3
   },
   "file_extension": ".py",
   "mimetype": "text/x-python",
   "name": "python",
   "nbconvert_exporter": "python",
   "pygments_lexer": "ipython3",
   "version": "3.10.12"
  }
 },
 "nbformat": 4,
 "nbformat_minor": 5
}
